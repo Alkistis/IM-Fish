{
 "cells": [
  {
   "cell_type": "markdown",
   "metadata": {},
   "source": [
    "Author: Alkistis Pourtsidou, ICG Portsmouth\n",
    "\n",
    "Using part of http://camb.readthedocs.io/en/latest/CAMBdemo.html \n",
    "\n",
    "To run this Jupyter notebook you need to have CAMB and the CAMB python package \n",
    "installed. In order to install the CAMB python package on your computer follow\n",
    "the instructions in http://camb.readthedocs.io/en/latest/"
   ]
  },
  {
   "cell_type": "code",
   "execution_count": null,
   "metadata": {
    "collapsed": false
   },
   "outputs": [],
   "source": [
    "%matplotlib inline\n",
    "import sys, platform, os\n",
    "\n",
    "from matplotlib import pyplot as plt\n",
    "import numpy as np\n",
    "\n",
    "#print('Using CAMB installed at '+ os.path.realpath(os.path.join(os.getcwd(),'..')))\n",
    "#sys.path.insert(0,os.path.realpath(os.path.join(os.getcwd(),'..')))\n",
    "import camb\n",
    "from camb import model, initialpower"
   ]
  },
  {
   "cell_type": "code",
   "execution_count": null,
   "metadata": {
    "collapsed": false
   },
   "outputs": [],
   "source": [
    "import scipy\n",
    "from scipy.interpolate import interp1d\n",
    "from __future__ import division"
   ]
  },
  {
   "cell_type": "code",
   "execution_count": null,
   "metadata": {
    "collapsed": false
   },
   "outputs": [],
   "source": [
    "from scipy import integrate\n",
    "from scipy import linalg\n",
    "\n",
    "pi=np.pi"
   ]
  },
  {
   "cell_type": "code",
   "execution_count": null,
   "metadata": {
    "collapsed": false
   },
   "outputs": [],
   "source": [
    "#Fiducial cosmological parameters\n",
    "c=3e5\n",
    "hubble=0.678\n",
    "omegab=0.022*pow(hubble,-2)\n",
    "omegac=0.119*pow(hubble,-2)\n",
    "om0=omegac+omegab\n",
    "H00=100*hubble\n",
    "Ass=2.14e-9\n",
    "nss = 0.968\n",
    "\n",
    "gamma=0.545\n",
    "\n",
    "print om0, H00"
   ]
  },
  {
   "cell_type": "code",
   "execution_count": null,
   "metadata": {
    "collapsed": false
   },
   "outputs": [],
   "source": [
    "#Set up the fiducial cosmology\n",
    "pars = camb.CAMBparams()\n",
    "#Set cosmology\n",
    "pars.set_cosmology(H0=H00, ombh2=omegab*pow(hubble,2), omch2=omegac*pow(hubble,2),omk=0,mnu=0)\n",
    "pars.set_dark_energy() #LCDM (default)\n",
    "pars.InitPower.set_params(ns=nss, r=0, As=Ass)\n",
    "pars.set_for_lmax(2500, lens_potential_accuracy=0);"
   ]
  },
  {
   "cell_type": "code",
   "execution_count": null,
   "metadata": {
    "collapsed": false
   },
   "outputs": [],
   "source": [
    "#calculate results for these parameters\n",
    "results = camb.get_results(pars)\n",
    "#print pars"
   ]
  },
  {
   "cell_type": "code",
   "execution_count": null,
   "metadata": {
    "collapsed": false
   },
   "outputs": [],
   "source": [
    "#Get matter power spectrum at z=0: P(k,z=0)\n",
    "#Not non-linear corrections couples to smaller scales than you want\n",
    "pars.set_matter_power(redshifts=[0.], kmax=2.0)\n",
    "#Non-Linear spectra (Halofit)\n",
    "pars.NonLinear = model.NonLinear_both\n",
    "results.calc_power_spectra(pars)\n",
    "kh, z, pk = results.get_matter_power_spectrum(minkh=1e-6, maxkh=2.0, npoints = 200)"
   ]
  },
  {
   "cell_type": "code",
   "execution_count": null,
   "metadata": {
    "collapsed": false
   },
   "outputs": [],
   "source": [
    "#Construct P(k,z=0) interpolating function, in units of Mpc (no h)\n",
    "Pkz0 = interp1d(kh*hubble, pk[0]/pow(hubble,3))"
   ]
  },
  {
   "cell_type": "code",
   "execution_count": null,
   "metadata": {
    "collapsed": false
   },
   "outputs": [],
   "source": [
    "#Redshift bins\n",
    "zlist = np.arange(0.1,1.45,0.1)\n",
    "ztest = zlist[4]\n",
    "Nzbins = len(zlist)\n",
    "\n",
    "print zlist\n",
    "print \"ztest =\", ztest\n",
    "print \"Number of redshift bins =\", Nzbins"
   ]
  },
  {
   "cell_type": "code",
   "execution_count": null,
   "metadata": {
    "collapsed": false
   },
   "outputs": [],
   "source": [
    "#Spatially flat Universe\n",
    "\n",
    "#Define E(z) = H(z)/H0\n",
    "def Ez(zc):\n",
    "    return np.sqrt(1-om0+om0*pow(1+zc,3))\n",
    "def Hz(zc):\n",
    "    return Ez(zc)*H00\n",
    "#Define the comoving distances\n",
    "def drdz(zp):\n",
    "    return (c/H00)/Ez(zp)\n",
    "def rcom(zc):\n",
    "    return scipy.integrate.romberg(drdz,0,zc)\n",
    "def DA(zc):\n",
    "    return rcom(zc)/(1+zc)\n",
    "\n",
    "print ztest, rcom(ztest)\n",
    "#print DA(ztest)"
   ]
  },
  {
   "cell_type": "code",
   "execution_count": null,
   "metadata": {
    "collapsed": false
   },
   "outputs": [],
   "source": [
    "#Define the growth function in LCDM\n",
    "def fg(zz):\n",
    "    omz=om0*pow(1+zz,3)/pow(Ez(zz),2)\n",
    "    return pow(omz,gamma)\n",
    "\n",
    "print fg(ztest)"
   ]
  },
  {
   "cell_type": "code",
   "execution_count": null,
   "metadata": {
    "collapsed": false
   },
   "outputs": [],
   "source": [
    "#Get the growth factor \n",
    "def Dg_dz(zz):\n",
    "    return -fg(zz)/(1+zz)\n",
    "\n",
    "def Dgz(zc):\n",
    "    ans = scipy.integrate.romberg(Dg_dz, 0.0, zc)\n",
    "    return np.exp(ans)\n",
    "\n",
    "print Dgz(ztest)"
   ]
  },
  {
   "cell_type": "code",
   "execution_count": null,
   "metadata": {
    "collapsed": false
   },
   "outputs": [],
   "source": [
    "#fiducial bHI from Bull et al 2015\n",
    "def bHI(zc):\n",
    "    return 0.67+0.18*zc+0.05*pow(zc,2)\n",
    "\n",
    "#fiducial OmHI Mario's fit\n",
    "def OmHI(zc):\n",
    "    return 0.00048+0.00039*zc-0.000065*pow(zc,2)\n",
    "\n",
    "print bHI(ztest), OmHI(ztest)"
   ]
  },
  {
   "cell_type": "code",
   "execution_count": null,
   "metadata": {
    "collapsed": false
   },
   "outputs": [],
   "source": [
    "#Construct P(k,μ,z) \n",
    "def beta(zc):\n",
    "    return fg(zc)/bHI(zc)\n",
    "\n",
    "def Pkz(kk,mu,zc):    \n",
    "    return pow(1+beta(zc)*mu**2,2)*pow(Dgz(zc),2)*Pkz0(kk)"
   ]
  },
  {
   "cell_type": "code",
   "execution_count": null,
   "metadata": {
    "collapsed": false
   },
   "outputs": [],
   "source": [
    "#mean brightness temperature [mK] Mario's fit\n",
    "def Tb(zc):\n",
    "    return 0.0559+0.2324*zc-0.024*pow(zc,2)\n",
    "\n",
    "print ztest, Tb(ztest)"
   ]
  },
  {
   "cell_type": "code",
   "execution_count": null,
   "metadata": {
    "collapsed": false
   },
   "outputs": [],
   "source": [
    "#Construct P_HI(k,μ,z), Tb assumed known\n",
    "def PHI(kk,mu,zc):\n",
    "    return pow(bHI(zc),2)*Pkz(kk,mu,zc)"
   ]
  },
  {
   "cell_type": "code",
   "execution_count": null,
   "metadata": {
    "collapsed": false
   },
   "outputs": [],
   "source": [
    "#MeerKAT noise specs\n",
    "Ndishes=64\n",
    "Ddish=13.5*100 #cm\n",
    "Nbeams=1\n",
    "\n",
    "def thetab(zc):\n",
    "    return 21*(1+zc)/Ddish\n",
    "\n",
    "def omegapix(zc):\n",
    "    return 1.13*pow(thetab(zc),2)\n",
    "\n",
    "Area=4000.0 #deg^2\n",
    "omegatot = Area*pow(pi/180,2)\n",
    "ttotal = 4000*60*60 #4000 hrs for 4000 deg^2\n",
    "\n",
    "def fc(zc):\n",
    "    return 1420.4/(1+zc)\n",
    "\n",
    "def Tsky(zc):\n",
    "    return 60*pow(300/fc(zc),2.55)*1e3\n",
    "\n",
    "#Tsys per band [in mK] from the latest specs document\n",
    "Tsyslist = [23.5*1e3,23.0*1e3,23.0*1e3,28.0*1e3,29.0*1e3,30.0*1e3,28.5*1e3,29.5*1e3,\\\n",
    "            31.0*1e3,33.0*1e3,34.0*1e3,35.0*1e3,37.0*1e3,38.0*1e3] \n",
    "\n",
    "def tobs(zc):\n",
    "    return ttotal*(omegapix(zc)/omegatot)*Ndishes*Nbeams\n",
    "\n",
    "Dzbin = 0.1 #redshift bin width\n",
    "dfpix = 50*1e3 #frequency resolution in Hz\n",
    "midfreq = 1420.4e6 #Hz\n",
    "\n",
    "def dzpix(zc):\n",
    "    return pow(1+zc,2)*dfpix/midfreq\n",
    "def sigpix(zc,Tsys):\n",
    "    return Tsys/np.sqrt(dfpix*tobs(zc)) \n",
    "def dVpixdz(zz):    \n",
    "    return c*pow(rcom(zz),2)/(H00*Ez(zz))\n",
    "def Vpix(zc):\n",
    "    return omegapix(zc)*scipy.integrate.romberg(dVpixdz,zc-dzpix(zc)/2,zc+dzpix(zc)/2)\n",
    "\n",
    "def Wsq(kk,mu,zc):\n",
    "    #add very small offset to avoid division by zero\n",
    "    return 1e-20+np.exp(-pow(kk,2)*(1-mu**2)*pow(rcom(zc),2)*pow(thetab(zc),2)/(8*np.log(2)))\n",
    "\n",
    "#note division by Tb^2\n",
    "def Pnoise(kk,mu,zc,Tsys):\n",
    "    return pow(sigpix(zc,Tsys),2)*Vpix(zc)*pow(Wsq(kk,mu,zc),-1.)/pow(Tb(zc),2)"
   ]
  },
  {
   "cell_type": "code",
   "execution_count": null,
   "metadata": {
    "collapsed": false
   },
   "outputs": [],
   "source": [
    "def kmin(zc):\n",
    "    return 2*pi*pow(Vsur(zc),-1/3)\n",
    "    \n",
    "def kmax(zc): #non-linear cutoff (Smith et al 2003)\n",
    "    return 0.14*pow(1+zc,2/(2+nss))"
   ]
  },
  {
   "cell_type": "code",
   "execution_count": null,
   "metadata": {
    "collapsed": false
   },
   "outputs": [],
   "source": [
    "#non-linear dispersion effect\n",
    "#not used currently\n",
    "def sigNL(kk,mu):\n",
    "    sNL = 7 #Mpc\n",
    "    return np.exp(-kk**2*mu**2*sNL**2)"
   ]
  },
  {
   "cell_type": "code",
   "execution_count": null,
   "metadata": {
    "collapsed": false
   },
   "outputs": [],
   "source": [
    "#survey (bin) volume [Mpc^3]\n",
    "def dVsurdz(zz):    \n",
    "    return omegatot*c*pow(rcom(zz),2)/(H00*Ez(zz))\n",
    "    \n",
    "def Vsur(zc):\n",
    "    return scipy.integrate.romberg(dVsurdz,zc-Dzbin/2,zc+Dzbin/2)\n",
    "\n",
    "#effective volume going in the Fisher matrix\n",
    "def Veff(kk,mu,zc):\n",
    "    return Vsur(zc)*(PHI(kk,mu,zc)/(PHI(kk,mu,zc)+Pnoise(kk,mu,zc,Tsys)))**2\n",
    "\n",
    "print \"%.4g\" % Vsur(ztest)"
   ]
  },
  {
   "cell_type": "code",
   "execution_count": null,
   "metadata": {
    "collapsed": false
   },
   "outputs": [],
   "source": [
    "#Fisher matrix parameters \n",
    "params = [\"0:fsig8\",\"1:bsig8\",\"2:DA\",\"3:H\"]"
   ]
  },
  {
   "cell_type": "code",
   "execution_count": null,
   "metadata": {
    "collapsed": false
   },
   "outputs": [],
   "source": [
    "#Fisher matrix derivatives\n",
    "\n",
    "def dlnP_dlnfsig8(kk,mu,zc):\n",
    "    return 2*mu**2*fg(zc)/(bHI(zc)+mu**2*fg(zc))\n",
    "\n",
    "def dlnP_dlnbsig8(kk,mu,zc):\n",
    "    return 2*bHI(zc)/(bHI(zc)+mu**2*fg(zc))\n",
    "\n",
    "def dlnP_dlnDA(kk,mu,zc):\n",
    "    dk = (kmax(zc)-kmin(zc))/400\n",
    "    return (-2.0+4*mu**2*(1-mu**2)*fg(zc)/(bHI(zc)+mu**2*fg(zc))\n",
    "            -kk*(1-mu**2)*(1/Pkz0(kk))*(Pkz0(kk+dk)-Pkz0(kk-dk))/(2*dk))\n",
    "\n",
    "def dlnP_dlnH(kk,mu,zc):\n",
    "    dk = (kmax(zc)-kmin(zc))/400\n",
    "    return (1.0+4*mu**2*(1-mu**2)*fg(zc)/(bHI(zc)+mu**2*fg(zc))\n",
    "            +kk*mu**2*(1/Pkz0(kk))*(Pkz0(kk+dk)-Pkz0(kk-dk))/(2*dk))"
   ]
  },
  {
   "cell_type": "code",
   "execution_count": null,
   "metadata": {
    "collapsed": false
   },
   "outputs": [],
   "source": [
    "def dF(kk,mu):\n",
    "    return (1./(8*pi*pi))*pow(kk,2)*deriv_i(kk,mu,zc)*deriv_j(kk,mu,zc)*Veff(kk,mu,zc)    "
   ]
  },
  {
   "cell_type": "code",
   "execution_count": null,
   "metadata": {
    "collapsed": true
   },
   "outputs": [],
   "source": [
    "#2D integration function\n",
    "def integrate2D(dfun, kgrid, mugrid):\n",
    "    \n",
    "    muint = [scipy.integrate.simps(dfun.T[i], mugrid) for i in range(kgrid.size)]\n",
    "    return scipy.integrate.simps(muint, kgrid)"
   ]
  },
  {
   "cell_type": "code",
   "execution_count": null,
   "metadata": {
    "collapsed": false
   },
   "outputs": [],
   "source": [
    "mugrid = np.linspace(-1., 1., 200) "
   ]
  },
  {
   "cell_type": "code",
   "execution_count": null,
   "metadata": {
    "collapsed": false
   },
   "outputs": [],
   "source": [
    "#%%time\n",
    "#   Fisher matrix   # \n",
    "\n",
    "Npar = 4\n",
    "#create array of zeros\n",
    "s = (Npar,Npar)\n",
    "\n",
    "for zi in range(0,Nzbins):\n",
    "    zc = zlist[zi]\n",
    "    Tsys = Tsyslist[zi]+Tsky(zc)\n",
    "    kgrid = np.linspace(kmin(zc), kmax(zc), 400)\n",
    "    K, MU = np.meshgrid(kgrid, mugrid)\n",
    "    Fishermat = np.zeros(s)\n",
    "    for i in range(0,Npar):  \n",
    "        def deriv_i(kk,mu,zc):\n",
    "            if i==0:  return dlnP_dlnfsig8(kk,mu,zc)\n",
    "            elif i==1:  return dlnP_dlnbsig8(kk,mu,zc)\n",
    "            elif i==2:  return dlnP_dlnDA(kk,mu,zc)\n",
    "            elif i==3:  return dlnP_dlnH(kk,mu,zc)\n",
    "            else: print \"out of range\"\n",
    "        for  j in range(0,Npar):\n",
    "            if j>=i:\n",
    "                def deriv_j(kk,mu,zc):\n",
    "                    if j==0:  return dlnP_dlnfsig8(kk,mu,zc)\n",
    "                    elif j==1:  return dlnP_dlnbsig8(kk,mu,zc)\n",
    "                    elif j==2:  return dlnP_dlnDA(kk,mu,zc)\n",
    "                    elif j==3:  return dlnP_dlnH(kk,mu,zc)\n",
    "                    else: print \"index out of range\" \n",
    "                Fishermat[i][j] = integrate2D(dF(K,MU),kgrid,mugrid)\n",
    "            else: Fishermat[i,j] = Fishermat[j,i]\n",
    "    #if zi==4:\n",
    "    #    for i in range(0,Npar):\n",
    "    #        for  j in range(0,Npar):\n",
    "    #            print i,j,linalg.inv(Fishermat)[i,j]\n",
    "            \n",
    "    #print z_bin and fractional error     \n",
    "    print zc, \"%.2g\" % np.sqrt(linalg.inv(Fishermat)[0,0]),\\\n",
    "              \"%.2g\" % np.sqrt(linalg.inv(Fishermat)[2,2]),\\\n",
    "              \"%.2g\" % np.sqrt(linalg.inv(Fishermat)[3,3])"
   ]
  },
  {
   "cell_type": "code",
   "execution_count": null,
   "metadata": {
    "collapsed": true
   },
   "outputs": [],
   "source": []
  }
 ],
 "metadata": {
  "kernelspec": {
   "display_name": "Python 2",
   "language": "python",
   "name": "python2"
  },
  "language_info": {
   "codemirror_mode": {
    "name": "ipython",
    "version": 2
   },
   "file_extension": ".py",
   "mimetype": "text/x-python",
   "name": "python",
   "nbconvert_exporter": "python",
   "pygments_lexer": "ipython2",
   "version": "2.7.12"
  }
 },
 "nbformat": 4,
 "nbformat_minor": 0
}
