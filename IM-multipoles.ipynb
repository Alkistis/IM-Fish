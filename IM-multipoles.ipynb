{
 "cells": [
  {
   "cell_type": "markdown",
   "metadata": {},
   "source": [
    "#### Author: Alkistis Pourtsidou, QMUL\n",
    "\n",
    "Using part of http://camb.readthedocs.io/en/latest/CAMBdemo.html \n",
    "\n",
    "To run this Jupyter notebook you need to have CAMB and the CAMB python package \n",
    "installed. In order to install the CAMB python package on your computer follow\n",
    "the instructions in http://camb.readthedocs.io/en/latest/"
   ]
  },
  {
   "cell_type": "code",
   "execution_count": null,
   "metadata": {},
   "outputs": [],
   "source": [
    "%matplotlib inline\n",
    "import sys, platform, os\n",
    "\n",
    "from matplotlib import pyplot as plt\n",
    "import numpy as np\n",
    "\n",
    "import camb\n",
    "from camb import model, initialpower"
   ]
  },
  {
   "cell_type": "code",
   "execution_count": null,
   "metadata": {
    "collapsed": true
   },
   "outputs": [],
   "source": [
    "import scipy\n",
    "from scipy.interpolate import interp1d\n",
    "from scipy.integrate import quad\n",
    "from scipy import integrate as integrate\n",
    "from __future__ import division"
   ]
  },
  {
   "cell_type": "code",
   "execution_count": null,
   "metadata": {
    "collapsed": true
   },
   "outputs": [],
   "source": [
    "pi=np.pi"
   ]
  },
  {
   "cell_type": "code",
   "execution_count": null,
   "metadata": {
    "collapsed": true
   },
   "outputs": [],
   "source": [
    "#plots settings\n",
    "font = {'size'   : 16, 'family':'STIXGeneral'}\n",
    "axislabelfontsize='x-large'\n",
    "plt.rc('font', **font)\n",
    "plt.rcParams['legend.fontsize']='medium'\n",
    "plt.rcParams['text.usetex']=True"
   ]
  },
  {
   "cell_type": "code",
   "execution_count": null,
   "metadata": {
    "collapsed": true
   },
   "outputs": [],
   "source": [
    "#Fiducial cosmological parameters\n",
    "c=3e5\n",
    "hubble=0.678\n",
    "omegab=0.022*pow(hubble,-2)\n",
    "omegac=0.119*pow(hubble,-2)\n",
    "om0=omegac+omegab\n",
    "H00=100*hubble\n",
    "Ass=2.14e-9\n",
    "nss = 0.968\n",
    "\n",
    "gamma=0.545"
   ]
  },
  {
   "cell_type": "code",
   "execution_count": null,
   "metadata": {
    "collapsed": true
   },
   "outputs": [],
   "source": [
    "#Set up the fiducial cosmology\n",
    "pars = camb.CAMBparams()\n",
    "#Set cosmology\n",
    "pars.set_cosmology(H0=H00, ombh2=omegab*pow(hubble,2), omch2=omegac*pow(hubble,2),omk=0,mnu=0)\n",
    "pars.set_dark_energy() #LCDM (default)\n",
    "pars.InitPower.set_params(ns=nss, r=0, As=Ass)\n",
    "pars.set_for_lmax(2500, lens_potential_accuracy=0);"
   ]
  },
  {
   "cell_type": "code",
   "execution_count": null,
   "metadata": {
    "collapsed": true
   },
   "outputs": [],
   "source": [
    "#calculate results for these parameters\n",
    "results = camb.get_results(pars)\n",
    "#print pars"
   ]
  },
  {
   "cell_type": "code",
   "execution_count": null,
   "metadata": {
    "collapsed": true
   },
   "outputs": [],
   "source": [
    "#Get matter power spectrum at z=0: P(k,z=0)\n",
    "pars.set_matter_power(redshifts=[0.], kmax=100.0)\n",
    "#Non-Linear spectra (Halofit)\n",
    "pars.NonLinear = model.NonLinear_both\n",
    "results.calc_power_spectra(pars)\n",
    "kh, z, pk = results.get_matter_power_spectrum(minkh=1e-6, maxkh=100.0, npoints = 1000)"
   ]
  },
  {
   "cell_type": "code",
   "execution_count": null,
   "metadata": {
    "collapsed": true
   },
   "outputs": [],
   "source": [
    "#Construct P(k,z=0) interpolating function\n",
    "Pkz0 = interp1d(kh, pk[0])"
   ]
  },
  {
   "cell_type": "code",
   "execution_count": null,
   "metadata": {
    "collapsed": true
   },
   "outputs": [],
   "source": [
    "#Spatially flat Universe\n",
    "\n",
    "#Define E(z) = H(z)/H0\n",
    "def Ez(zc):\n",
    "    return np.sqrt(1-om0+om0*pow(1+zc,3))\n",
    "def Hz(zc):\n",
    "    return Ez(zc)*H00\n",
    "#Define the comoving distances\n",
    "def drdz(zp):\n",
    "    return (c/H00)/Ez(zp)\n",
    "def rcom(zc):\n",
    "    return scipy.integrate.romberg(drdz,0,zc)\n",
    "def DA(zc):\n",
    "    return rcom(zc)/(1+zc)"
   ]
  },
  {
   "cell_type": "code",
   "execution_count": null,
   "metadata": {
    "collapsed": true
   },
   "outputs": [],
   "source": [
    "#Define the growth function in LCDM\n",
    "def fg(zz):\n",
    "    omz=om0*pow(1+zz,3)/pow(Ez(zz),2)\n",
    "    return pow(omz,gamma)"
   ]
  },
  {
   "cell_type": "code",
   "execution_count": null,
   "metadata": {
    "collapsed": true
   },
   "outputs": [],
   "source": [
    "#Get the growth factor \n",
    "def Dg_dz(zz):\n",
    "    return -fg(zz)/(1+zz)\n",
    "\n",
    "def Dgz(zc):\n",
    "    ans = scipy.integrate.romberg(Dg_dz, 0.0, zc)\n",
    "    return np.exp(ans)"
   ]
  },
  {
   "cell_type": "code",
   "execution_count": null,
   "metadata": {
    "collapsed": true
   },
   "outputs": [],
   "source": [
    "#fiducial bHI \n",
    "bHI = 1.0"
   ]
  },
  {
   "cell_type": "code",
   "execution_count": null,
   "metadata": {
    "collapsed": true
   },
   "outputs": [],
   "source": [
    "#choose redshift\n",
    "zbin = 0.5"
   ]
  },
  {
   "cell_type": "code",
   "execution_count": null,
   "metadata": {
    "collapsed": true
   },
   "outputs": [],
   "source": [
    "#Construct matter P(k,z); no RSD\n",
    "def Pkz(kk):    \n",
    "    return pow(Dgz(zbin),2)*Pkz0(kk)"
   ]
  },
  {
   "cell_type": "code",
   "execution_count": null,
   "metadata": {
    "collapsed": true
   },
   "outputs": [],
   "source": [
    "#Construct observed P_ell(k) with toy foreground removal and telescope beam\n",
    "#note brightness temperature not included so units are just Mpc^3/h^3\n",
    "\n",
    "R = 5 #beam smoothing scale [Mpc/h]\n",
    "\n",
    "def dP0(mu):\n",
    "    beta = fg(zbin)/bHI\n",
    "    return pow(1+beta*mu**2,2)\n",
    "\n",
    "def P0(kk,mu1):#mu1 is used for foreground removal effects toy model\n",
    "    return (1/2.)*pow(bHI,2)*Pkz(kk)*scipy.special.dawsn(kk*R)/(kk*R)*(scipy.integrate.romberg(dP0,-1,-mu1)\\\n",
    "                                                                             +scipy.integrate.romberg(dP0,mu1,1))\n",
    "def dP2(mu):\n",
    "    beta = fg(zbin)/bHI\n",
    "    return pow(1+beta*mu**2,2)*(3*mu**2-1)/2\n",
    "\n",
    "def P2(kk,mu1):#mu1 is used for foreground removal effects toy model \n",
    "    return (5/2.)*pow(bHI,2)*Pkz(kk)*scipy.special.dawsn(kk*R)/(kk*R)*(scipy.integrate.romberg(dP2,-1,-mu1)\\\n",
    "                                                                             +scipy.integrate.romberg(dP2,mu1,1))\n",
    "\n",
    "def dP4(mu):\n",
    "    beta = fg(zbin)/bHI\n",
    "    return pow(1+beta*mu**2,2)*(35*mu**4-30*mu**2+3)/8\n",
    "\n",
    "def P4(kk,mu1):#mu1 is used for foreground removal effects toy model\n",
    "    return (9/2.)*pow(bHI,2)*Pkz(kk)*scipy.special.dawsn(kk*R)/(kk*R)*(scipy.integrate.romberg(dP4,-1,-mu1)\\\n",
    "                                                                             +scipy.integrate.romberg(dP4,mu1,1))\n",
    "\n",
    "#### FOR TESTING ####\n",
    "\n",
    "#analytical P0 formula (without beam)\n",
    "def P0anal(kk):\n",
    "    beta = fg(zbin)/bHI\n",
    "    return (1 + (2/3)*beta + (1/5)*beta**2)*bHI**2*Pkz(kk)\n",
    "\n",
    "#analytical P2 formula (without beam)\n",
    "def P2anal(kk):\n",
    "    beta = fg(zbin)/bHI\n",
    "    return ((4/3)*beta + (4/7)*beta**2)*bHI**2*Pkz(kk)"
   ]
  },
  {
   "cell_type": "code",
   "execution_count": null,
   "metadata": {},
   "outputs": [],
   "source": [
    "kminn=3e-3\n",
    "kmaxx=0.3\n",
    "\n",
    "ktab = np.linspace(kminn,kmaxx,400)\n",
    "\n",
    "itab = [0,1]\n",
    "\n",
    "lstab = ['-', '--']\n",
    "colortab = ['black','red']\n",
    "\n",
    "mu1tab = [0,0.1] #0 means perfect foreground cleaning!\n",
    "legtab = ['no FG','with FG']\n",
    "\n",
    "\n",
    "for i in itab:\n",
    "    p0 = [P0(k,mu1tab[i]) for k in ktab]\n",
    "    plt.plot(ktab,ktab*p0,color=colortab[i],ls=lstab[i],label=legtab[i])\n",
    "\n",
    "#plt.xlim(kminn,kmaxx)\n",
    "plt.ylim(0,700)\n",
    "\n",
    "plt.xlabel(\"$k \\, [h \\, \\mathrm{Mpc^{-1}]}$\")\n",
    "plt.ylabel(\"$k P_0(k) \\, \\mathrm{[Mpc^2/h^2]}$\")\n",
    "plt.legend()\n",
    "\n",
    "#plt.savefig('P0.pdf', format=\"pdf\", bbox_inches = 'tight')\n",
    "\n",
    "plt.show()"
   ]
  },
  {
   "cell_type": "code",
   "execution_count": null,
   "metadata": {},
   "outputs": [],
   "source": [
    "for i in itab:\n",
    "    p2 = [P2(k,mu1tab[i]) for k in ktab]\n",
    "    plt.plot(ktab,ktab*p2,color=colortab[i],ls=lstab[i],label=legtab[i])\n",
    "\n",
    "plt.xlabel(\"$k \\, [h \\, \\mathrm{Mpc^{-1}]}$\")\n",
    "plt.ylabel(\"$k P_2(k) \\, \\mathrm{[Mpc^2/h^2]}$\")\n",
    "plt.legend()\n",
    "\n",
    "plt.ylim(0,700)\n",
    "\n",
    "#plt.savefig('P2.pdf', format=\"pdf\", bbox_inches = 'tight')\n",
    "\n",
    "plt.show()"
   ]
  },
  {
   "cell_type": "code",
   "execution_count": null,
   "metadata": {},
   "outputs": [],
   "source": [
    "for i in itab:\n",
    "    p4 = [P4(k,mu1tab[i]) for k in ktab]\n",
    "    plt.plot(ktab,ktab*p4,color=colortab[i],ls=lstab[i],label=legtab[i])\n",
    "\n",
    "plt.xlabel(\"$k \\, [h \\, \\mathrm{Mpc^{-1}]}$\")\n",
    "plt.ylabel(\"$k P_4(k) \\, \\mathrm{[Mpc^2/h^2]}$\")\n",
    "plt.legend()\n",
    "\n",
    "plt.ylim(-100,100)\n",
    "\n",
    "#plt.savefig('P4.pdf', format=\"pdf\", bbox_inches = 'tight')\n",
    "\n",
    "plt.show()"
   ]
  },
  {
   "cell_type": "markdown",
   "metadata": {},
   "source": [
    "#### February 2019"
   ]
  }
 ],
 "metadata": {
  "kernelspec": {
   "display_name": "Python 3",
   "language": "python",
   "name": "python3"
  },
  "language_info": {
   "codemirror_mode": {
    "name": "ipython",
    "version": 3
   },
   "file_extension": ".py",
   "mimetype": "text/x-python",
   "name": "python",
   "nbconvert_exporter": "python",
   "pygments_lexer": "ipython3",
   "version": "3.6.8"
  }
 },
 "nbformat": 4,
 "nbformat_minor": 1
}
