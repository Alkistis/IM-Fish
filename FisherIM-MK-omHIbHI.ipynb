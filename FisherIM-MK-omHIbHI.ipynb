{
 "cells": [
  {
   "cell_type": "code",
   "execution_count": 2,
   "metadata": {
    "collapsed": false
   },
   "outputs": [],
   "source": [
    "# Author: Alkistis Pourtsidou, ICG Portsmouth\n",
    "# Using part of http://camb.readthedocs.io/en/latest/CAMBdemo.html \n",
    "\n",
    "# To run this notebook you need to have CAMB and the CAMB python package \n",
    "# installed. In order to install the CAMB python package on your computer follow\n",
    "# the instructions in http://camb.readthedocs.io/en/latest/\n",
    "\n",
    "%matplotlib inline\n",
    "import sys, platform, os\n",
    "\n",
    "from matplotlib import pyplot as plt\n",
    "import numpy as np\n",
    "#print('Using CAMB installed at '+ os.path.realpath(os.path.join(os.getcwd(),'..')))\n",
    "#sys.path.insert(0,os.path.realpath(os.path.join(os.getcwd(),'..')))\n",
    "import camb\n",
    "from camb import model, initialpower"
   ]
  },
  {
   "cell_type": "code",
   "execution_count": 3,
   "metadata": {
    "collapsed": true
   },
   "outputs": [],
   "source": [
    "import pylab as pl"
   ]
  },
  {
   "cell_type": "code",
   "execution_count": 4,
   "metadata": {
    "collapsed": false
   },
   "outputs": [],
   "source": [
    "font = {'size'   : 16, 'family':'STIXGeneral'}\n",
    "axislabelfontsize='x-large'\n",
    "plt.rc('font', **font)\n",
    "plt.rcParams['legend.fontsize']='medium'"
   ]
  },
  {
   "cell_type": "code",
   "execution_count": 5,
   "metadata": {
    "collapsed": true
   },
   "outputs": [],
   "source": [
    "import scipy\n",
    "from scipy.interpolate import interp1d\n",
    "from __future__ import division"
   ]
  },
  {
   "cell_type": "code",
   "execution_count": 6,
   "metadata": {
    "collapsed": false
   },
   "outputs": [],
   "source": [
    "from scipy import integrate\n",
    "from scipy import linalg\n",
    "\n",
    "pi=np.pi"
   ]
  },
  {
   "cell_type": "code",
   "execution_count": 7,
   "metadata": {
    "collapsed": false
   },
   "outputs": [
    {
     "name": "stdout",
     "output_type": "stream",
     "text": [
      "0.306732450988\n"
     ]
    }
   ],
   "source": [
    "#Fiducial cosmological parameters\n",
    "c=3e5\n",
    "hubble=0.678\n",
    "omegab=0.022*pow(hubble,-2)\n",
    "omegac=0.119*pow(hubble,-2)\n",
    "om0=omegac+omegab\n",
    "H00=100*hubble\n",
    "Ass=2.14e-9\n",
    "nss = 0.968\n",
    "\n",
    "gamma=0.545\n",
    "\n",
    "print om0"
   ]
  },
  {
   "cell_type": "code",
   "execution_count": 8,
   "metadata": {
    "collapsed": false
   },
   "outputs": [],
   "source": [
    "#Set up the fiducial cosmology\n",
    "pars = camb.CAMBparams()\n",
    "#Set cosmology\n",
    "pars.set_cosmology(H0=H00, ombh2=omegab*pow(hubble,2), omch2=omegac*pow(hubble,2),omk=0,mnu=0)\n",
    "pars.set_dark_energy() #LCDM (default)\n",
    "pars.InitPower.set_params(ns=nss, r=0, As=Ass)\n",
    "pars.set_for_lmax(2500, lens_potential_accuracy=0);"
   ]
  },
  {
   "cell_type": "code",
   "execution_count": 9,
   "metadata": {
    "collapsed": false
   },
   "outputs": [],
   "source": [
    "#calculate results for these parameters\n",
    "results = camb.get_results(pars)"
   ]
  },
  {
   "cell_type": "code",
   "execution_count": 10,
   "metadata": {
    "collapsed": false
   },
   "outputs": [],
   "source": [
    "#Get matter power spectrum at z=0: P(k,z=0)\n",
    "\n",
    "#Not non-linear corrections couples to smaller scales than you want\n",
    "pars.set_matter_power(redshifts=[0.], kmax=2.0)\n",
    "\n",
    "#Non-Linear spectra (Halofit)\n",
    "pars.NonLinear = model.NonLinear_both\n",
    "results.calc_power_spectra(pars)\n",
    "kh, z, pk = results.get_matter_power_spectrum(minkh=1e-4, maxkh=2.0, npoints = 200)"
   ]
  },
  {
   "cell_type": "code",
   "execution_count": 11,
   "metadata": {
    "collapsed": false
   },
   "outputs": [],
   "source": [
    "#Construct P(k,z=0) interpolating function, in units of Mpc (no h)\n",
    "Pkz0 = interp1d(kh*hubble, pk[0]/pow(hubble,3))"
   ]
  },
  {
   "cell_type": "code",
   "execution_count": 13,
   "metadata": {
    "collapsed": false
   },
   "outputs": [
    {
     "name": "stdout",
     "output_type": "stream",
     "text": [
      "[ 0.1  0.2  0.3  0.4  0.5  0.6  0.7  0.8  0.9  1.   1.1  1.2  1.3  1.4]\n",
      "ztest = 0.5\n",
      "Number of redshift bins = 14\n"
     ]
    }
   ],
   "source": [
    "#Redshift bins\n",
    "zlist = np.arange(0.1,1.45,0.1)\n",
    "ztest = zlist[4]\n",
    "Nzbins = len(zlist)\n",
    "\n",
    "print zlist\n",
    "print \"ztest =\", ztest\n",
    "print \"Number of redshift bins =\", Nzbins"
   ]
  },
  {
   "cell_type": "code",
   "execution_count": 14,
   "metadata": {
    "collapsed": false
   },
   "outputs": [
    {
     "name": "stdout",
     "output_type": "stream",
     "text": [
      "1946.72577762\n"
     ]
    }
   ],
   "source": [
    "#Define E(z) = H(z)/H0\n",
    "def Ez(zc):\n",
    "    return np.sqrt(1-om0+om0*pow(1+zc,3))\n",
    "#Define the comoving distance\n",
    "def drdz(zp):\n",
    "    return (c/H00)/Ez(zp)\n",
    "def rcom(zc):\n",
    "    return scipy.integrate.romberg(drdz,0,zc)\n",
    "\n",
    "print rcom(ztest)"
   ]
  },
  {
   "cell_type": "code",
   "execution_count": 15,
   "metadata": {
    "collapsed": false
   },
   "outputs": [
    {
     "name": "stdout",
     "output_type": "stream",
     "text": [
      "0.756249102937\n"
     ]
    }
   ],
   "source": [
    "#Define the growth function in LCDM\n",
    "def get_growth(zz):\n",
    "    omz=om0*pow(1+zz,3)/(om0*pow(1+zz,3)+1-om0)\n",
    "    return pow(omz,gamma)\n",
    "\n",
    "print get_growth(ztest)"
   ]
  },
  {
   "cell_type": "code",
   "execution_count": 16,
   "metadata": {
    "collapsed": false
   },
   "outputs": [
    {
     "name": "stdout",
     "output_type": "stream",
     "text": [
      "0.770149045252\n"
     ]
    }
   ],
   "source": [
    "#Get the growth factor \n",
    "def Dg_dz(zz):\n",
    "    return get_growth(zz)/(1+zz)\n",
    "def Dgz(zc):\n",
    "    ans = scipy.integrate.romberg(Dg_dz, 0.0, zc)\n",
    "    return np.exp(-ans)\n",
    "\n",
    "print Dgz(ztest)"
   ]
  },
  {
   "cell_type": "code",
   "execution_count": 17,
   "metadata": {
    "collapsed": false
   },
   "outputs": [
    {
     "name": "stdout",
     "output_type": "stream",
     "text": [
      "0.00051016980025 0.7725\n"
     ]
    }
   ],
   "source": [
    "#fiducial bHI from Bull et al 2015\n",
    "def bHI(zc):\n",
    "    return 0.67+0.18*zc+0.05*pow(zc,2)\n",
    "\n",
    "#fiducial OmHI from Crighton et al 2015\n",
    "def OmHI(zc):\n",
    "    return 0.0004*pow(1+zc,0.6)\n",
    "\n",
    "print OmHI(ztest), bHI(ztest)"
   ]
  },
  {
   "cell_type": "code",
   "execution_count": 18,
   "metadata": {
    "collapsed": false
   },
   "outputs": [
    {
     "name": "stdout",
     "output_type": "stream",
     "text": [
      "6983.67990574\n"
     ]
    }
   ],
   "source": [
    "#Construct P(k,z) \n",
    "def Pkz(kk,zc):    \n",
    "    return pow(Dgz(zc),2)*Pkz0(kk)\n",
    "\n",
    "print Pkz(0.1,ztest)"
   ]
  },
  {
   "cell_type": "code",
   "execution_count": 20,
   "metadata": {
    "collapsed": false
   },
   "outputs": [
    {
     "name": "stdout",
     "output_type": "stream",
     "text": [
      "0.106553098208\n"
     ]
    }
   ],
   "source": [
    "#mean brightness temperature [mK]\n",
    "def Tb(zc):\n",
    "    return 180.*OmHI(zc)*hubble*pow(1+zc,2)/Ez(zc)\n",
    "\n",
    "print Tb(ztest)"
   ]
  },
  {
   "cell_type": "code",
   "execution_count": 21,
   "metadata": {
    "collapsed": false
   },
   "outputs": [],
   "source": [
    "#Construct P_HI(k,z) [mK^2]\n",
    "def PHI(kk,zc):\n",
    "    return pow(Tb(zc),2)*pow(bHI(zc),2)*Pkz(kk,zc)"
   ]
  },
  {
   "cell_type": "code",
   "execution_count": 22,
   "metadata": {
    "collapsed": false
   },
   "outputs": [],
   "source": [
    "#MeerKAT noise specs\n",
    "Ndishes=64\n",
    "Ddish=13.5*100 #cm\n",
    "Nbeams=1\n",
    "\n",
    "def thetab(zc):\n",
    "    return 21*(1+zc)/Ddish\n",
    "\n",
    "def omegapix(zc):\n",
    "    return 1.13*pow(thetab(zc),2)\n",
    "\n",
    "Area=5000.0 #deg^2\n",
    "fsky=Area/44000\n",
    "omegatot = Area*pow(pi/180,2) #sr^2\n",
    "ttotal = 3650*60*60 #approx 5 months in sec\n",
    "\n",
    "Tsyslist = [23.5*1e3,23.0*1e3,23.0*1e3,28.0*1e3,29.0*1e3,30.0*1e3,28.5*1e3,29.5*1e3,\\\n",
    "            31.0*1e3,33.0*1e3,34.0*1e3,35.0*1e3,37.0*1e3,38.0*1e3] #mK\n",
    "\n",
    "def tobs(zc):\n",
    "    return ttotal*(omegapix(zc)/omegatot)*Ndishes*Nbeams\n",
    "\n",
    "Dzbin = 0.1\n",
    "dfpix = 50*1e3 #Hz\n",
    "midfreq = 1420.4e6 #Hz\n",
    "\n",
    "def dzpix(zc):\n",
    "    return (1+zc)*dfpix/midfreq\n",
    "def sigpix(zc,Tsys):\n",
    "    return Tsys/np.sqrt(dfpix*tobs(zc)) \n",
    "def dVpixdz(zz):    \n",
    "    return c*pow(rcom(zz),2)/(H00*Ez(zz))\n",
    "def Vpix(zc):\n",
    "    return omegapix(zc)*scipy.integrate.romberg(dVpixdz,zc-dzpix(zc)/2,zc+dzpix(zc)/2)\n",
    "\n",
    "def Wsq(kk,zc):\n",
    "    return np.exp(-pow(kk,2)*pow(rcom(zc),2)*pow(thetab(zc),2)/(8*np.log(2)))\n",
    "\n",
    "def Pnoise(kk,zc,Tsys):\n",
    "    return pow(sigpix(zc,Tsys),2)*Vpix(zc)*pow(Wsq(kk,zc),-1.)"
   ]
  },
  {
   "cell_type": "code",
   "execution_count": 24,
   "metadata": {
    "collapsed": false
   },
   "outputs": [
    {
     "name": "stdout",
     "output_type": "stream",
     "text": [
      "0.00261524703843 0.18398732861\n"
     ]
    }
   ],
   "source": [
    "def kmin(zc):\n",
    "    return 2*pi/np.sqrt(pow(rcom(zc),2)*omegatot)\n",
    "def kmax(zc):\n",
    "    return 0.14*pow(1+zc,2/(2+nss)); #non-linear cutoff Smith et al 2003\n",
    "    #return 2*pi*Ddish/(rcom(zc)*21*(1+zc)) #instrumental cutoff\n",
    "\n",
    "print kmin(ztest), kmax(ztest)"
   ]
  },
  {
   "cell_type": "code",
   "execution_count": 25,
   "metadata": {
    "collapsed": false
   },
   "outputs": [
    {
     "data": {
      "image/png": "[encoded data removed]",
      "text/plain": [
       "<matplotlib.figure.Figure at 0x10b3a41d0>"
      ]
     },
     "metadata": {},
     "output_type": "display_data"
    }
   ],
   "source": [
    "#Plot HI signal and noise power spectra\n",
    "k1 = np.linspace(kmin(ztest),kmax(ztest),200)\n",
    "pk1 = [PHI(k,ztest) for k in k1]\n",
    "pn1 = [Pnoise(k,ztest,Tsyslist[4]) for k in k1]\n",
    "\n",
    "plt.loglog(k1,pk1,color='black',lw=2)\n",
    "plt.loglog(k1,pn1,color='green',lw=2,ls='dashed')\n",
    "\n",
    "plt.xlim(2e-3, 0.3)\n",
    "plt.ylim(5, 1e4)\n",
    "\n",
    "plt.xlabel(\"$k \\, \\mathrm{[Mpc^{-1}]}$\")\n",
    "plt.ylabel(\"$P^{\\, \\mathrm{S}}(k), P^{\\, \\mathrm{N}}(k)  \\, \\mathrm{[mK^2 Mpc^3]}$\")\n",
    "\n",
    "pl.text(3e-3, 4e3, '$z=0.5$')\n",
    "\n",
    "#pl.savefig('PS_PN.pdf', format=\"pdf\", bbox_inches = 'tight')\n",
    "plt.show()"
   ]
  },
  {
   "cell_type": "code",
   "execution_count": 26,
   "metadata": {
    "collapsed": false
   },
   "outputs": [
    {
     "name": "stdout",
     "output_type": "stream",
     "text": [
      "1.943e+09\n"
     ]
    }
   ],
   "source": [
    "#survey (bin) volume [Mpc^3]\n",
    "def dVsurdz(zz):    \n",
    "    return omegatot*c*pow(rcom(zz),2)/(H00*Ez(zz))\n",
    "    \n",
    "def Vsur(zc):\n",
    "    return scipy.integrate.romberg(dVsurdz,zc-Dzbin/2,zc+Dzbin/2)\n",
    "\n",
    "#effective volume going in the Fisher matrix\n",
    "def Veff(kk,zc):\n",
    "    return Vsur(zc)*(PHI(kk,zc)/(PHI(kk,zc)+Pnoise(kk,zc,Tsys)))**2\n",
    "\n",
    "print \"%.4g\" % Vsur(ztest)"
   ]
  },
  {
   "cell_type": "code",
   "execution_count": 27,
   "metadata": {
    "collapsed": false
   },
   "outputs": [],
   "source": [
    "#Fisher matrix derivatives\n",
    "\n",
    "def dlnP_dlnOmHIbHI(kk,zc):\n",
    "    return 2.0"
   ]
  },
  {
   "cell_type": "code",
   "execution_count": 28,
   "metadata": {
    "collapsed": false
   },
   "outputs": [],
   "source": [
    "#Fisher matrix\n",
    "\n",
    "def dFdk(kk):\n",
    "    return (1./(4*pi*pi))*pow(kk,2)*pow(dlnP_dlnOmHIbHI(kk,zc),2)*Veff(kk,zc)"
   ]
  },
  {
   "cell_type": "code",
   "execution_count": 29,
   "metadata": {
    "collapsed": false
   },
   "outputs": [
    {
     "name": "stdout",
     "output_type": "stream",
     "text": [
      "0.1 0.0087366539237\n",
      "0.2 0.0051613910422\n",
      "0.3 0.00545330346584\n",
      "0.4 0.00780044878205\n",
      "0.5 0.00963869847628\n",
      "0.6 0.0115838246039\n",
      "0.7 0.0129396838023\n",
      "0.8 0.0152590740051\n",
      "0.9 0.0180107469804\n",
      "1.0 0.0212159983565\n",
      "1.1 0.0241540411944\n",
      "1.2 0.027276181762\n",
      "1.3 0.0312659569882\n",
      "1.4 0.0349157710215\n"
     ]
    }
   ],
   "source": [
    "for i in range(0,Nzbins):\n",
    "    zc = zlist[i]\n",
    "    Tsys = Tsyslist[i]\n",
    "    K = np.linspace(kmin(zc), kmax(zc), 500)\n",
    "    dF = dFdk(K)\n",
    "    Fisher = scipy.integrate.simps(dF,K)           \n",
    "    print zc, np.sqrt(1/Fisher)"
   ]
  },
  {
   "cell_type": "code",
   "execution_count": null,
   "metadata": {
    "collapsed": true
   },
   "outputs": [],
   "source": []
  }
 ],
 "metadata": {
  "kernelspec": {
   "display_name": "Python 2",
   "language": "python",
   "name": "python2"
  },
  "language_info": {
   "codemirror_mode": {
    "name": "ipython",
    "version": 2
   },
   "file_extension": ".py",
   "mimetype": "text/x-python",
   "name": "python",
   "nbconvert_exporter": "python",
   "pygments_lexer": "ipython2",
   "version": "2.7.12"
  }
 },
 "nbformat": 4,
 "nbformat_minor": 0
}
